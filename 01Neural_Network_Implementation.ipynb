{
  "nbformat": 4,
  "nbformat_minor": 0,
  "metadata": {
    "colab": {
      "provenance": [],
      "gpuType": "T4",
      "authorship_tag": "ABX9TyPZ7IdHTQPMaATahDpA9/hu",
      "include_colab_link": true
    },
    "kernelspec": {
      "name": "python3",
      "display_name": "Python 3"
    },
    "language_info": {
      "name": "python"
    },
    "accelerator": "GPU"
  },
  "cells": [
    {
      "cell_type": "markdown",
      "metadata": {
        "id": "view-in-github",
        "colab_type": "text"
      },
      "source": [
        "<a href=\"https://colab.research.google.com/github/misrapk/Deep-Learning-Course-YT/blob/main/01Neural_Network_Implementation.ipynb\" target=\"_parent\"><img src=\"https://colab.research.google.com/assets/colab-badge.svg\" alt=\"Open In Colab\"/></a>"
      ]
    },
    {
      "cell_type": "markdown",
      "source": [
        "# Implementation of Neurl network\n",
        "\n",
        "- ML = Scikit Learn\n",
        "- DL = tensorflow and Keras"
      ],
      "metadata": {
        "id": "WgCc9nEEeng3"
      }
    },
    {
      "cell_type": "code",
      "source": [
        "#load dataset\n",
        "import tensorflow as tf\n",
        "\n",
        "fashion_mnist = tf.keras.datasets.fashion_mnist.load_data()"
      ],
      "metadata": {
        "colab": {
          "base_uri": "https://localhost:8080/"
        },
        "id": "2hD1AjE3jljc",
        "outputId": "267e6370-e017-4512-b3c7-785c7150728d"
      },
      "execution_count": null,
      "outputs": [
        {
          "output_type": "stream",
          "name": "stdout",
          "text": [
            "Downloading data from https://storage.googleapis.com/tensorflow/tf-keras-datasets/train-labels-idx1-ubyte.gz\n",
            "\u001b[1m29515/29515\u001b[0m \u001b[32m━━━━━━━━━━━━━━━━━━━━\u001b[0m\u001b[37m\u001b[0m \u001b[1m0s\u001b[0m 0us/step\n",
            "Downloading data from https://storage.googleapis.com/tensorflow/tf-keras-datasets/train-images-idx3-ubyte.gz\n",
            "\u001b[1m26421880/26421880\u001b[0m \u001b[32m━━━━━━━━━━━━━━━━━━━━\u001b[0m\u001b[37m\u001b[0m \u001b[1m2s\u001b[0m 0us/step\n",
            "Downloading data from https://storage.googleapis.com/tensorflow/tf-keras-datasets/t10k-labels-idx1-ubyte.gz\n",
            "\u001b[1m5148/5148\u001b[0m \u001b[32m━━━━━━━━━━━━━━━━━━━━\u001b[0m\u001b[37m\u001b[0m \u001b[1m0s\u001b[0m 0us/step\n",
            "Downloading data from https://storage.googleapis.com/tensorflow/tf-keras-datasets/t10k-images-idx3-ubyte.gz\n",
            "\u001b[1m4422102/4422102\u001b[0m \u001b[32m━━━━━━━━━━━━━━━━━━━━\u001b[0m\u001b[37m\u001b[0m \u001b[1m1s\u001b[0m 0us/step\n"
          ]
        }
      ]
    },
    {
      "cell_type": "code",
      "source": [
        "fashion_mnist"
      ],
      "metadata": {
        "colab": {
          "base_uri": "https://localhost:8080/"
        },
        "id": "Rt0_qa1wkZga",
        "outputId": "bb220e0d-1f38-4bd8-de6e-1f2f1130162b"
      },
      "execution_count": null,
      "outputs": [
        {
          "output_type": "execute_result",
          "data": {
            "text/plain": [
              "((array([[[0, 0, 0, ..., 0, 0, 0],\n",
              "          [0, 0, 0, ..., 0, 0, 0],\n",
              "          [0, 0, 0, ..., 0, 0, 0],\n",
              "          ...,\n",
              "          [0, 0, 0, ..., 0, 0, 0],\n",
              "          [0, 0, 0, ..., 0, 0, 0],\n",
              "          [0, 0, 0, ..., 0, 0, 0]],\n",
              "  \n",
              "         [[0, 0, 0, ..., 0, 0, 0],\n",
              "          [0, 0, 0, ..., 0, 0, 0],\n",
              "          [0, 0, 0, ..., 0, 0, 0],\n",
              "          ...,\n",
              "          [0, 0, 0, ..., 0, 0, 0],\n",
              "          [0, 0, 0, ..., 0, 0, 0],\n",
              "          [0, 0, 0, ..., 0, 0, 0]],\n",
              "  \n",
              "         [[0, 0, 0, ..., 0, 0, 0],\n",
              "          [0, 0, 0, ..., 0, 0, 0],\n",
              "          [0, 0, 0, ..., 0, 0, 0],\n",
              "          ...,\n",
              "          [0, 0, 0, ..., 0, 0, 0],\n",
              "          [0, 0, 0, ..., 0, 0, 0],\n",
              "          [0, 0, 0, ..., 0, 0, 0]],\n",
              "  \n",
              "         ...,\n",
              "  \n",
              "         [[0, 0, 0, ..., 0, 0, 0],\n",
              "          [0, 0, 0, ..., 0, 0, 0],\n",
              "          [0, 0, 0, ..., 0, 0, 0],\n",
              "          ...,\n",
              "          [0, 0, 0, ..., 0, 0, 0],\n",
              "          [0, 0, 0, ..., 0, 0, 0],\n",
              "          [0, 0, 0, ..., 0, 0, 0]],\n",
              "  \n",
              "         [[0, 0, 0, ..., 0, 0, 0],\n",
              "          [0, 0, 0, ..., 0, 0, 0],\n",
              "          [0, 0, 0, ..., 0, 0, 0],\n",
              "          ...,\n",
              "          [0, 0, 0, ..., 0, 0, 0],\n",
              "          [0, 0, 0, ..., 0, 0, 0],\n",
              "          [0, 0, 0, ..., 0, 0, 0]],\n",
              "  \n",
              "         [[0, 0, 0, ..., 0, 0, 0],\n",
              "          [0, 0, 0, ..., 0, 0, 0],\n",
              "          [0, 0, 0, ..., 0, 0, 0],\n",
              "          ...,\n",
              "          [0, 0, 0, ..., 0, 0, 0],\n",
              "          [0, 0, 0, ..., 0, 0, 0],\n",
              "          [0, 0, 0, ..., 0, 0, 0]]], dtype=uint8),\n",
              "  array([9, 0, 0, ..., 3, 0, 5], dtype=uint8)),\n",
              " (array([[[0, 0, 0, ..., 0, 0, 0],\n",
              "          [0, 0, 0, ..., 0, 0, 0],\n",
              "          [0, 0, 0, ..., 0, 0, 0],\n",
              "          ...,\n",
              "          [0, 0, 0, ..., 0, 0, 0],\n",
              "          [0, 0, 0, ..., 0, 0, 0],\n",
              "          [0, 0, 0, ..., 0, 0, 0]],\n",
              "  \n",
              "         [[0, 0, 0, ..., 0, 0, 0],\n",
              "          [0, 0, 0, ..., 0, 0, 0],\n",
              "          [0, 0, 0, ..., 0, 0, 0],\n",
              "          ...,\n",
              "          [0, 0, 0, ..., 0, 0, 0],\n",
              "          [0, 0, 0, ..., 0, 0, 0],\n",
              "          [0, 0, 0, ..., 0, 0, 0]],\n",
              "  \n",
              "         [[0, 0, 0, ..., 0, 0, 0],\n",
              "          [0, 0, 0, ..., 0, 0, 0],\n",
              "          [0, 0, 0, ..., 0, 0, 0],\n",
              "          ...,\n",
              "          [0, 0, 0, ..., 0, 0, 0],\n",
              "          [0, 0, 0, ..., 0, 0, 0],\n",
              "          [0, 0, 0, ..., 0, 0, 0]],\n",
              "  \n",
              "         ...,\n",
              "  \n",
              "         [[0, 0, 0, ..., 0, 0, 0],\n",
              "          [0, 0, 0, ..., 0, 0, 0],\n",
              "          [0, 0, 0, ..., 0, 0, 0],\n",
              "          ...,\n",
              "          [0, 0, 0, ..., 0, 0, 0],\n",
              "          [0, 0, 0, ..., 0, 0, 0],\n",
              "          [0, 0, 0, ..., 0, 0, 0]],\n",
              "  \n",
              "         [[0, 0, 0, ..., 0, 0, 0],\n",
              "          [0, 0, 0, ..., 0, 0, 0],\n",
              "          [0, 0, 0, ..., 0, 0, 0],\n",
              "          ...,\n",
              "          [0, 0, 0, ..., 0, 0, 0],\n",
              "          [0, 0, 0, ..., 0, 0, 0],\n",
              "          [0, 0, 0, ..., 0, 0, 0]],\n",
              "  \n",
              "         [[0, 0, 0, ..., 0, 0, 0],\n",
              "          [0, 0, 0, ..., 0, 0, 0],\n",
              "          [0, 0, 0, ..., 0, 0, 0],\n",
              "          ...,\n",
              "          [0, 0, 0, ..., 0, 0, 0],\n",
              "          [0, 0, 0, ..., 0, 0, 0],\n",
              "          [0, 0, 0, ..., 0, 0, 0]]], dtype=uint8),\n",
              "  array([9, 2, 1, ..., 8, 1, 5], dtype=uint8)))"
            ]
          },
          "metadata": {},
          "execution_count": 4
        }
      ]
    },
    {
      "cell_type": "code",
      "source": [
        "(X_train_f, y_train_f),( X_test, y_test) = fashion_mnist"
      ],
      "metadata": {
        "id": "QHqn1oZfkfYx"
      },
      "execution_count": null,
      "outputs": []
    },
    {
      "cell_type": "code",
      "source": [
        "X_train, y_train = X_train_f[:-5000], y_train_f[:-5000]\n",
        "X_valid, y_valid = X_train_f[-5000:], y_train_f[-5000:]"
      ],
      "metadata": {
        "id": "Q-0jsQqRkzB8"
      },
      "execution_count": null,
      "outputs": []
    },
    {
      "cell_type": "code",
      "source": [
        "print(\"Shape of X_train, \", X_train.shape)\n",
        "print(\"Shape of y_train, \", y_train.shape)\n",
        "print(\"Shape of X_valid, \", X_valid.shape)\n",
        "print(\"Shape of y_valid, \", y_valid.shape)\n",
        "\n",
        "print('Data Type: ', X_train.dtype)\n"
      ],
      "metadata": {
        "colab": {
          "base_uri": "https://localhost:8080/"
        },
        "id": "0Tdy5_9ElO0U",
        "outputId": "dc9bbb42-26b0-4472-88d8-ea2d255710c8"
      },
      "execution_count": null,
      "outputs": [
        {
          "output_type": "stream",
          "name": "stdout",
          "text": [
            "Shape of X_train,  (55000, 28, 28)\n",
            "Shape of y_train,  (55000,)\n",
            "Shape of X_valid,  (5000, 28, 28)\n",
            "Shape of y_valid,  (5000,)\n",
            "Data Type:  uint8\n"
          ]
        }
      ]
    },
    {
      "cell_type": "markdown",
      "source": [
        " - Every image is 28x28 array rather than 1D array of Size 784\n",
        " - we will scale the pixel to 0-1 range by dividingn to 255.0"
      ],
      "metadata": {
        "id": "QrspYjK8lvMW"
      }
    },
    {
      "cell_type": "code",
      "source": [
        "X_train, X_valid,X_test= X_train/255.0, X_valid/255.0, X_test/255.0"
      ],
      "metadata": {
        "id": "7QD26hV5mKp0"
      },
      "execution_count": null,
      "outputs": []
    },
    {
      "cell_type": "code",
      "source": [
        "y_train[5]"
      ],
      "metadata": {
        "colab": {
          "base_uri": "https://localhost:8080/"
        },
        "id": "YbDVbtRhmUfz",
        "outputId": "acaa0da4-b036-4d07-8031-2394d41221df"
      },
      "execution_count": null,
      "outputs": [
        {
          "output_type": "execute_result",
          "data": {
            "text/plain": [
              "np.uint8(2)"
            ]
          },
          "metadata": {},
          "execution_count": 9
        }
      ]
    },
    {
      "cell_type": "markdown",
      "source": [
        "![image.png](data:image/png;base64,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)"
      ],
      "metadata": {
        "id": "np-Rgu3zm0GW"
      }
    },
    {
      "cell_type": "code",
      "source": [
        "class_names = ['T-shirt/top','Trouser', 'Pullover','Dress','Coat','Sandal','Shirt','Sneaker', 'Bag','Ankle Boot']"
      ],
      "metadata": {
        "id": "W3MEl6tMm2LU"
      },
      "execution_count": null,
      "outputs": []
    },
    {
      "cell_type": "code",
      "source": [
        "y_train[6]"
      ],
      "metadata": {
        "colab": {
          "base_uri": "https://localhost:8080/"
        },
        "id": "0OW2jIs6nRiS",
        "outputId": "0bdedcbc-cfa5-44c6-f239-59128615cb79"
      },
      "execution_count": null,
      "outputs": [
        {
          "output_type": "execute_result",
          "data": {
            "text/plain": [
              "np.uint8(7)"
            ]
          },
          "metadata": {},
          "execution_count": 15
        }
      ]
    },
    {
      "cell_type": "code",
      "source": [
        "class_names[y_train[6]]"
      ],
      "metadata": {
        "colab": {
          "base_uri": "https://localhost:8080/",
          "height": 36
        },
        "id": "IURxadQ7nDkx",
        "outputId": "4eba669a-6bf2-4e44-a392-c2049b32a81c"
      },
      "execution_count": null,
      "outputs": [
        {
          "output_type": "execute_result",
          "data": {
            "text/plain": [
              "'Sneaker'"
            ],
            "application/vnd.google.colaboratory.intrinsic+json": {
              "type": "string"
            }
          },
          "metadata": {},
          "execution_count": 16
        }
      ]
    },
    {
      "cell_type": "markdown",
      "source": [
        "#Create Model using Keras API"
      ],
      "metadata": {
        "id": "CJGrWNzXnXtu"
      }
    },
    {
      "cell_type": "code",
      "source": [
        "tf.random.set_seed(42)\n",
        "\n",
        "model = tf.keras.Sequential([\n",
        "    tf.keras.layers.Flatten(input_shape=[28,28]),   #input layer\n",
        "    tf.keras.layers.Dense(300, activation='relu'),  #hidden layer 1\n",
        "    tf.keras.layers.Dense(100, activation='relu'),  #hidden layer 2\n",
        "    tf.keras.layers.Dense(10, activation='softmax')   #output layer\n",
        "\n",
        "])"
      ],
      "metadata": {
        "colab": {
          "base_uri": "https://localhost:8080/"
        },
        "id": "Bn2wBJQunZna",
        "outputId": "ecfc2b72-ff48-45b9-c89b-54b1811f0a1b"
      },
      "execution_count": null,
      "outputs": [
        {
          "output_type": "stream",
          "name": "stderr",
          "text": [
            "/usr/local/lib/python3.11/dist-packages/keras/src/layers/reshaping/flatten.py:37: UserWarning: Do not pass an `input_shape`/`input_dim` argument to a layer. When using Sequential models, prefer using an `Input(shape)` object as the first layer in the model instead.\n",
            "  super().__init__(**kwargs)\n"
          ]
        }
      ]
    },
    {
      "cell_type": "code",
      "source": [
        "model.summary()"
      ],
      "metadata": {
        "colab": {
          "base_uri": "https://localhost:8080/",
          "height": 262
        },
        "id": "cmjHuQVnoa_J",
        "outputId": "4aaf94e8-8f3e-447b-df25-31672020ad4d"
      },
      "execution_count": null,
      "outputs": [
        {
          "output_type": "display_data",
          "data": {
            "text/plain": [
              "\u001b[1mModel: \"sequential\"\u001b[0m\n"
            ],
            "text/html": [
              "<pre style=\"white-space:pre;overflow-x:auto;line-height:normal;font-family:Menlo,'DejaVu Sans Mono',consolas,'Courier New',monospace\"><span style=\"font-weight: bold\">Model: \"sequential\"</span>\n",
              "</pre>\n"
            ]
          },
          "metadata": {}
        },
        {
          "output_type": "display_data",
          "data": {
            "text/plain": [
              "┏━━━━━━━━━━━━━━━━━━━━━━━━━━━━━━━━━┳━━━━━━━━━━━━━━━━━━━━━━━━┳━━━━━━━━━━━━━━━┓\n",
              "┃\u001b[1m \u001b[0m\u001b[1mLayer (type)                   \u001b[0m\u001b[1m \u001b[0m┃\u001b[1m \u001b[0m\u001b[1mOutput Shape          \u001b[0m\u001b[1m \u001b[0m┃\u001b[1m \u001b[0m\u001b[1m      Param #\u001b[0m\u001b[1m \u001b[0m┃\n",
              "┡━━━━━━━━━━━━━━━━━━━━━━━━━━━━━━━━━╇━━━━━━━━━━━━━━━━━━━━━━━━╇━━━━━━━━━━━━━━━┩\n",
              "│ flatten (\u001b[38;5;33mFlatten\u001b[0m)               │ (\u001b[38;5;45mNone\u001b[0m, \u001b[38;5;34m784\u001b[0m)            │             \u001b[38;5;34m0\u001b[0m │\n",
              "├─────────────────────────────────┼────────────────────────┼───────────────┤\n",
              "│ dense (\u001b[38;5;33mDense\u001b[0m)                   │ (\u001b[38;5;45mNone\u001b[0m, \u001b[38;5;34m300\u001b[0m)            │       \u001b[38;5;34m235,500\u001b[0m │\n",
              "├─────────────────────────────────┼────────────────────────┼───────────────┤\n",
              "│ dense_1 (\u001b[38;5;33mDense\u001b[0m)                 │ (\u001b[38;5;45mNone\u001b[0m, \u001b[38;5;34m100\u001b[0m)            │        \u001b[38;5;34m30,100\u001b[0m │\n",
              "├─────────────────────────────────┼────────────────────────┼───────────────┤\n",
              "│ dense_2 (\u001b[38;5;33mDense\u001b[0m)                 │ (\u001b[38;5;45mNone\u001b[0m, \u001b[38;5;34m10\u001b[0m)             │         \u001b[38;5;34m1,010\u001b[0m │\n",
              "└─────────────────────────────────┴────────────────────────┴───────────────┘\n"
            ],
            "text/html": [
              "<pre style=\"white-space:pre;overflow-x:auto;line-height:normal;font-family:Menlo,'DejaVu Sans Mono',consolas,'Courier New',monospace\">┏━━━━━━━━━━━━━━━━━━━━━━━━━━━━━━━━━┳━━━━━━━━━━━━━━━━━━━━━━━━┳━━━━━━━━━━━━━━━┓\n",
              "┃<span style=\"font-weight: bold\"> Layer (type)                    </span>┃<span style=\"font-weight: bold\"> Output Shape           </span>┃<span style=\"font-weight: bold\">       Param # </span>┃\n",
              "┡━━━━━━━━━━━━━━━━━━━━━━━━━━━━━━━━━╇━━━━━━━━━━━━━━━━━━━━━━━━╇━━━━━━━━━━━━━━━┩\n",
              "│ flatten (<span style=\"color: #0087ff; text-decoration-color: #0087ff\">Flatten</span>)               │ (<span style=\"color: #00d7ff; text-decoration-color: #00d7ff\">None</span>, <span style=\"color: #00af00; text-decoration-color: #00af00\">784</span>)            │             <span style=\"color: #00af00; text-decoration-color: #00af00\">0</span> │\n",
              "├─────────────────────────────────┼────────────────────────┼───────────────┤\n",
              "│ dense (<span style=\"color: #0087ff; text-decoration-color: #0087ff\">Dense</span>)                   │ (<span style=\"color: #00d7ff; text-decoration-color: #00d7ff\">None</span>, <span style=\"color: #00af00; text-decoration-color: #00af00\">300</span>)            │       <span style=\"color: #00af00; text-decoration-color: #00af00\">235,500</span> │\n",
              "├─────────────────────────────────┼────────────────────────┼───────────────┤\n",
              "│ dense_1 (<span style=\"color: #0087ff; text-decoration-color: #0087ff\">Dense</span>)                 │ (<span style=\"color: #00d7ff; text-decoration-color: #00d7ff\">None</span>, <span style=\"color: #00af00; text-decoration-color: #00af00\">100</span>)            │        <span style=\"color: #00af00; text-decoration-color: #00af00\">30,100</span> │\n",
              "├─────────────────────────────────┼────────────────────────┼───────────────┤\n",
              "│ dense_2 (<span style=\"color: #0087ff; text-decoration-color: #0087ff\">Dense</span>)                 │ (<span style=\"color: #00d7ff; text-decoration-color: #00d7ff\">None</span>, <span style=\"color: #00af00; text-decoration-color: #00af00\">10</span>)             │         <span style=\"color: #00af00; text-decoration-color: #00af00\">1,010</span> │\n",
              "└─────────────────────────────────┴────────────────────────┴───────────────┘\n",
              "</pre>\n"
            ]
          },
          "metadata": {}
        },
        {
          "output_type": "display_data",
          "data": {
            "text/plain": [
              "\u001b[1m Total params: \u001b[0m\u001b[38;5;34m266,610\u001b[0m (1.02 MB)\n"
            ],
            "text/html": [
              "<pre style=\"white-space:pre;overflow-x:auto;line-height:normal;font-family:Menlo,'DejaVu Sans Mono',consolas,'Courier New',monospace\"><span style=\"font-weight: bold\"> Total params: </span><span style=\"color: #00af00; text-decoration-color: #00af00\">266,610</span> (1.02 MB)\n",
              "</pre>\n"
            ]
          },
          "metadata": {}
        },
        {
          "output_type": "display_data",
          "data": {
            "text/plain": [
              "\u001b[1m Trainable params: \u001b[0m\u001b[38;5;34m266,610\u001b[0m (1.02 MB)\n"
            ],
            "text/html": [
              "<pre style=\"white-space:pre;overflow-x:auto;line-height:normal;font-family:Menlo,'DejaVu Sans Mono',consolas,'Courier New',monospace\"><span style=\"font-weight: bold\"> Trainable params: </span><span style=\"color: #00af00; text-decoration-color: #00af00\">266,610</span> (1.02 MB)\n",
              "</pre>\n"
            ]
          },
          "metadata": {}
        },
        {
          "output_type": "display_data",
          "data": {
            "text/plain": [
              "\u001b[1m Non-trainable params: \u001b[0m\u001b[38;5;34m0\u001b[0m (0.00 B)\n"
            ],
            "text/html": [
              "<pre style=\"white-space:pre;overflow-x:auto;line-height:normal;font-family:Menlo,'DejaVu Sans Mono',consolas,'Courier New',monospace\"><span style=\"font-weight: bold\"> Non-trainable params: </span><span style=\"color: #00af00; text-decoration-color: #00af00\">0</span> (0.00 B)\n",
              "</pre>\n"
            ]
          },
          "metadata": {}
        }
      ]
    },
    {
      "cell_type": "code",
      "source": [
        "model.layers"
      ],
      "metadata": {
        "colab": {
          "base_uri": "https://localhost:8080/"
        },
        "id": "AZ5F0oh2odZc",
        "outputId": "a1fb9ec2-e47e-4fc2-c1d3-bdc490221e36"
      },
      "execution_count": null,
      "outputs": [
        {
          "output_type": "execute_result",
          "data": {
            "text/plain": [
              "[<Flatten name=flatten, built=True>,\n",
              " <Dense name=dense, built=True>,\n",
              " <Dense name=dense_1, built=True>,\n",
              " <Dense name=dense_2, built=True>]"
            ]
          },
          "metadata": {},
          "execution_count": 19
        }
      ]
    },
    {
      "cell_type": "code",
      "source": [
        "model.layers[3].name"
      ],
      "metadata": {
        "colab": {
          "base_uri": "https://localhost:8080/",
          "height": 36
        },
        "id": "ZclGJ2NJle8c",
        "outputId": "1b3492d1-730f-4b1e-c04a-4346cf68f193"
      },
      "execution_count": null,
      "outputs": [
        {
          "output_type": "execute_result",
          "data": {
            "text/plain": [
              "'dense_2'"
            ],
            "application/vnd.google.colaboratory.intrinsic+json": {
              "type": "string"
            }
          },
          "metadata": {},
          "execution_count": 22
        }
      ]
    },
    {
      "cell_type": "code",
      "source": [
        "w, b = model.layers[2].get_weights()\n",
        "b.shape"
      ],
      "metadata": {
        "colab": {
          "base_uri": "https://localhost:8080/"
        },
        "id": "9yXv0ve5k0ed",
        "outputId": "0578e8e2-fba6-4a27-8434-f8e96c26514c"
      },
      "execution_count": null,
      "outputs": [
        {
          "output_type": "execute_result",
          "data": {
            "text/plain": [
              "(100,)"
            ]
          },
          "metadata": {},
          "execution_count": 28
        }
      ]
    },
    {
      "cell_type": "markdown",
      "source": [
        "# Compile Our Model"
      ],
      "metadata": {
        "id": "cmYRYTXHpM-P"
      }
    },
    {
      "cell_type": "code",
      "source": [
        "model.compile(optimizer='sgd',\n",
        "              loss ='sparse_categorical_crossentropy',\n",
        "              metrics=['accuracy'])"
      ],
      "metadata": {
        "id": "4YiQuV0ppO1j"
      },
      "execution_count": null,
      "outputs": []
    },
    {
      "cell_type": "markdown",
      "source": [
        "# Model Trainig and evaluation"
      ],
      "metadata": {
        "id": "vqdYwNnUp5rZ"
      }
    },
    {
      "cell_type": "code",
      "source": [
        "modelTrain = model.fit(X_train, y_train, epochs =40, validation_data= (X_valid, y_valid))\n",
        "# modelTrain = model.fit(X_train, y_train, epochs =40, validation_split = 0.1)\n"
      ],
      "metadata": {
        "colab": {
          "base_uri": "https://localhost:8080/"
        },
        "id": "_IctpMnEp7Rv",
        "outputId": "0cec9a0f-4740-43fb-f250-85f90163b83f"
      },
      "execution_count": null,
      "outputs": [
        {
          "output_type": "stream",
          "name": "stdout",
          "text": [
            "Epoch 1/40\n",
            "\u001b[1m1719/1719\u001b[0m \u001b[32m━━━━━━━━━━━━━━━━━━━━\u001b[0m\u001b[37m\u001b[0m \u001b[1m7s\u001b[0m 3ms/step - accuracy: 0.6687 - loss: 1.0268 - val_accuracy: 0.8278 - val_loss: 0.5105\n",
            "Epoch 2/40\n",
            "\u001b[1m1719/1719\u001b[0m \u001b[32m━━━━━━━━━━━━━━━━━━━━\u001b[0m\u001b[37m\u001b[0m \u001b[1m8s\u001b[0m 3ms/step - accuracy: 0.8238 - loss: 0.5097 - val_accuracy: 0.8332 - val_loss: 0.4640\n",
            "Epoch 3/40\n",
            "\u001b[1m1719/1719\u001b[0m \u001b[32m━━━━━━━━━━━━━━━━━━━━\u001b[0m\u001b[37m\u001b[0m \u001b[1m4s\u001b[0m 2ms/step - accuracy: 0.8426 - loss: 0.4565 - val_accuracy: 0.8434 - val_loss: 0.4402\n",
            "Epoch 4/40\n",
            "\u001b[1m1719/1719\u001b[0m \u001b[32m━━━━━━━━━━━━━━━━━━━━\u001b[0m\u001b[37m\u001b[0m \u001b[1m5s\u001b[0m 3ms/step - accuracy: 0.8526 - loss: 0.4256 - val_accuracy: 0.8454 - val_loss: 0.4236\n",
            "Epoch 5/40\n",
            "\u001b[1m1719/1719\u001b[0m \u001b[32m━━━━━━━━━━━━━━━━━━━━\u001b[0m\u001b[37m\u001b[0m \u001b[1m5s\u001b[0m 2ms/step - accuracy: 0.8600 - loss: 0.4036 - val_accuracy: 0.8498 - val_loss: 0.4101\n",
            "Epoch 6/40\n",
            "\u001b[1m1719/1719\u001b[0m \u001b[32m━━━━━━━━━━━━━━━━━━━━\u001b[0m\u001b[37m\u001b[0m \u001b[1m4s\u001b[0m 2ms/step - accuracy: 0.8646 - loss: 0.3860 - val_accuracy: 0.8560 - val_loss: 0.3996\n",
            "Epoch 7/40\n",
            "\u001b[1m1719/1719\u001b[0m \u001b[32m━━━━━━━━━━━━━━━━━━━━\u001b[0m\u001b[37m\u001b[0m \u001b[1m6s\u001b[0m 3ms/step - accuracy: 0.8683 - loss: 0.3712 - val_accuracy: 0.8582 - val_loss: 0.3905\n",
            "Epoch 8/40\n",
            "\u001b[1m1719/1719\u001b[0m \u001b[32m━━━━━━━━━━━━━━━━━━━━\u001b[0m\u001b[37m\u001b[0m \u001b[1m4s\u001b[0m 2ms/step - accuracy: 0.8733 - loss: 0.3583 - val_accuracy: 0.8632 - val_loss: 0.3828\n",
            "Epoch 9/40\n",
            "\u001b[1m1719/1719\u001b[0m \u001b[32m━━━━━━━━━━━━━━━━━━━━\u001b[0m\u001b[37m\u001b[0m \u001b[1m6s\u001b[0m 3ms/step - accuracy: 0.8764 - loss: 0.3473 - val_accuracy: 0.8646 - val_loss: 0.3783\n",
            "Epoch 10/40\n",
            "\u001b[1m1719/1719\u001b[0m \u001b[32m━━━━━━━━━━━━━━━━━━━━\u001b[0m\u001b[37m\u001b[0m \u001b[1m4s\u001b[0m 2ms/step - accuracy: 0.8801 - loss: 0.3372 - val_accuracy: 0.8666 - val_loss: 0.3745\n",
            "Epoch 11/40\n",
            "\u001b[1m1719/1719\u001b[0m \u001b[32m━━━━━━━━━━━━━━━━━━━━\u001b[0m\u001b[37m\u001b[0m \u001b[1m4s\u001b[0m 2ms/step - accuracy: 0.8830 - loss: 0.3282 - val_accuracy: 0.8672 - val_loss: 0.3705\n",
            "Epoch 12/40\n",
            "\u001b[1m1719/1719\u001b[0m \u001b[32m━━━━━━━━━━━━━━━━━━━━\u001b[0m\u001b[37m\u001b[0m \u001b[1m5s\u001b[0m 3ms/step - accuracy: 0.8859 - loss: 0.3198 - val_accuracy: 0.8674 - val_loss: 0.3675\n",
            "Epoch 13/40\n",
            "\u001b[1m1719/1719\u001b[0m \u001b[32m━━━━━━━━━━━━━━━━━━━━\u001b[0m\u001b[37m\u001b[0m \u001b[1m4s\u001b[0m 2ms/step - accuracy: 0.8887 - loss: 0.3121 - val_accuracy: 0.8676 - val_loss: 0.3648\n",
            "Epoch 14/40\n",
            "\u001b[1m1719/1719\u001b[0m \u001b[32m━━━━━━━━━━━━━━━━━━━━\u001b[0m\u001b[37m\u001b[0m \u001b[1m4s\u001b[0m 3ms/step - accuracy: 0.8907 - loss: 0.3051 - val_accuracy: 0.8686 - val_loss: 0.3616\n",
            "Epoch 15/40\n",
            "\u001b[1m1719/1719\u001b[0m \u001b[32m━━━━━━━━━━━━━━━━━━━━\u001b[0m\u001b[37m\u001b[0m \u001b[1m5s\u001b[0m 3ms/step - accuracy: 0.8932 - loss: 0.2984 - val_accuracy: 0.8700 - val_loss: 0.3588\n",
            "Epoch 16/40\n",
            "\u001b[1m1719/1719\u001b[0m \u001b[32m━━━━━━━━━━━━━━━━━━━━\u001b[0m\u001b[37m\u001b[0m \u001b[1m5s\u001b[0m 2ms/step - accuracy: 0.8954 - loss: 0.2922 - val_accuracy: 0.8702 - val_loss: 0.3577\n",
            "Epoch 17/40\n",
            "\u001b[1m1719/1719\u001b[0m \u001b[32m━━━━━━━━━━━━━━━━━━━━\u001b[0m\u001b[37m\u001b[0m \u001b[1m5s\u001b[0m 3ms/step - accuracy: 0.8974 - loss: 0.2864 - val_accuracy: 0.8724 - val_loss: 0.3545\n",
            "Epoch 18/40\n",
            "\u001b[1m1719/1719\u001b[0m \u001b[32m━━━━━━━━━━━━━━━━━━━━\u001b[0m\u001b[37m\u001b[0m \u001b[1m4s\u001b[0m 3ms/step - accuracy: 0.8994 - loss: 0.2806 - val_accuracy: 0.8722 - val_loss: 0.3535\n",
            "Epoch 19/40\n",
            "\u001b[1m1719/1719\u001b[0m \u001b[32m━━━━━━━━━━━━━━━━━━━━\u001b[0m\u001b[37m\u001b[0m \u001b[1m4s\u001b[0m 3ms/step - accuracy: 0.9015 - loss: 0.2751 - val_accuracy: 0.8736 - val_loss: 0.3518\n",
            "Epoch 20/40\n",
            "\u001b[1m1719/1719\u001b[0m \u001b[32m━━━━━━━━━━━━━━━━━━━━\u001b[0m\u001b[37m\u001b[0m \u001b[1m6s\u001b[0m 3ms/step - accuracy: 0.9036 - loss: 0.2699 - val_accuracy: 0.8716 - val_loss: 0.3534\n",
            "Epoch 21/40\n",
            "\u001b[1m1719/1719\u001b[0m \u001b[32m━━━━━━━━━━━━━━━━━━━━\u001b[0m\u001b[37m\u001b[0m \u001b[1m4s\u001b[0m 2ms/step - accuracy: 0.9051 - loss: 0.2651 - val_accuracy: 0.8722 - val_loss: 0.3508\n",
            "Epoch 22/40\n",
            "\u001b[1m1719/1719\u001b[0m \u001b[32m━━━━━━━━━━━━━━━━━━━━\u001b[0m\u001b[37m\u001b[0m \u001b[1m6s\u001b[0m 3ms/step - accuracy: 0.9064 - loss: 0.2601 - val_accuracy: 0.8718 - val_loss: 0.3493\n",
            "Epoch 23/40\n",
            "\u001b[1m1719/1719\u001b[0m \u001b[32m━━━━━━━━━━━━━━━━━━━━\u001b[0m\u001b[37m\u001b[0m \u001b[1m4s\u001b[0m 3ms/step - accuracy: 0.9083 - loss: 0.2554 - val_accuracy: 0.8732 - val_loss: 0.3491\n",
            "Epoch 24/40\n",
            "\u001b[1m1719/1719\u001b[0m \u001b[32m━━━━━━━━━━━━━━━━━━━━\u001b[0m\u001b[37m\u001b[0m \u001b[1m4s\u001b[0m 3ms/step - accuracy: 0.9098 - loss: 0.2509 - val_accuracy: 0.8732 - val_loss: 0.3482\n",
            "Epoch 25/40\n",
            "\u001b[1m1719/1719\u001b[0m \u001b[32m━━━━━━━━━━━━━━━━━━━━\u001b[0m\u001b[37m\u001b[0m \u001b[1m6s\u001b[0m 3ms/step - accuracy: 0.9117 - loss: 0.2464 - val_accuracy: 0.8732 - val_loss: 0.3483\n",
            "Epoch 26/40\n",
            "\u001b[1m1719/1719\u001b[0m \u001b[32m━━━━━━━━━━━━━━━━━━━━\u001b[0m\u001b[37m\u001b[0m \u001b[1m9s\u001b[0m 3ms/step - accuracy: 0.9132 - loss: 0.2421 - val_accuracy: 0.8748 - val_loss: 0.3467\n",
            "Epoch 27/40\n",
            "\u001b[1m1719/1719\u001b[0m \u001b[32m━━━━━━━━━━━━━━━━━━━━\u001b[0m\u001b[37m\u001b[0m \u001b[1m5s\u001b[0m 3ms/step - accuracy: 0.9153 - loss: 0.2379 - val_accuracy: 0.8756 - val_loss: 0.3461\n",
            "Epoch 28/40\n",
            "\u001b[1m1719/1719\u001b[0m \u001b[32m━━━━━━━━━━━━━━━━━━━━\u001b[0m\u001b[37m\u001b[0m \u001b[1m10s\u001b[0m 3ms/step - accuracy: 0.9168 - loss: 0.2337 - val_accuracy: 0.8764 - val_loss: 0.3465\n",
            "Epoch 29/40\n",
            "\u001b[1m1719/1719\u001b[0m \u001b[32m━━━━━━━━━━━━━━━━━━━━\u001b[0m\u001b[37m\u001b[0m \u001b[1m4s\u001b[0m 2ms/step - accuracy: 0.9184 - loss: 0.2298 - val_accuracy: 0.8772 - val_loss: 0.3451\n",
            "Epoch 30/40\n",
            "\u001b[1m1719/1719\u001b[0m \u001b[32m━━━━━━━━━━━━━━━━━━━━\u001b[0m\u001b[37m\u001b[0m \u001b[1m4s\u001b[0m 2ms/step - accuracy: 0.9197 - loss: 0.2259 - val_accuracy: 0.8768 - val_loss: 0.3447\n",
            "Epoch 31/40\n",
            "\u001b[1m1719/1719\u001b[0m \u001b[32m━━━━━━━━━━━━━━━━━━━━\u001b[0m\u001b[37m\u001b[0m \u001b[1m5s\u001b[0m 3ms/step - accuracy: 0.9208 - loss: 0.2220 - val_accuracy: 0.8774 - val_loss: 0.3450\n",
            "Epoch 32/40\n",
            "\u001b[1m1719/1719\u001b[0m \u001b[32m━━━━━━━━━━━━━━━━━━━━\u001b[0m\u001b[37m\u001b[0m \u001b[1m5s\u001b[0m 3ms/step - accuracy: 0.9225 - loss: 0.2184 - val_accuracy: 0.8772 - val_loss: 0.3446\n",
            "Epoch 33/40\n",
            "\u001b[1m1719/1719\u001b[0m \u001b[32m━━━━━━━━━━━━━━━━━━━━\u001b[0m\u001b[37m\u001b[0m \u001b[1m4s\u001b[0m 2ms/step - accuracy: 0.9242 - loss: 0.2149 - val_accuracy: 0.8774 - val_loss: 0.3440\n",
            "Epoch 34/40\n",
            "\u001b[1m1719/1719\u001b[0m \u001b[32m━━━━━━━━━━━━━━━━━━━━\u001b[0m\u001b[37m\u001b[0m \u001b[1m5s\u001b[0m 3ms/step - accuracy: 0.9252 - loss: 0.2112 - val_accuracy: 0.8786 - val_loss: 0.3421\n",
            "Epoch 35/40\n",
            "\u001b[1m1719/1719\u001b[0m \u001b[32m━━━━━━━━━━━━━━━━━━━━\u001b[0m\u001b[37m\u001b[0m \u001b[1m4s\u001b[0m 2ms/step - accuracy: 0.9263 - loss: 0.2075 - val_accuracy: 0.8786 - val_loss: 0.3427\n",
            "Epoch 36/40\n",
            "\u001b[1m1719/1719\u001b[0m \u001b[32m━━━━━━━━━━━━━━━━━━━━\u001b[0m\u001b[37m\u001b[0m \u001b[1m6s\u001b[0m 3ms/step - accuracy: 0.9277 - loss: 0.2040 - val_accuracy: 0.8786 - val_loss: 0.3410\n",
            "Epoch 37/40\n",
            "\u001b[1m1719/1719\u001b[0m \u001b[32m━━━━━━━━━━━━━━━━━━━━\u001b[0m\u001b[37m\u001b[0m \u001b[1m4s\u001b[0m 2ms/step - accuracy: 0.9296 - loss: 0.2006 - val_accuracy: 0.8780 - val_loss: 0.3408\n",
            "Epoch 38/40\n",
            "\u001b[1m1719/1719\u001b[0m \u001b[32m━━━━━━━━━━━━━━━━━━━━\u001b[0m\u001b[37m\u001b[0m \u001b[1m5s\u001b[0m 2ms/step - accuracy: 0.9307 - loss: 0.1972 - val_accuracy: 0.8780 - val_loss: 0.3408\n",
            "Epoch 39/40\n",
            "\u001b[1m1719/1719\u001b[0m \u001b[32m━━━━━━━━━━━━━━━━━━━━\u001b[0m\u001b[37m\u001b[0m \u001b[1m5s\u001b[0m 3ms/step - accuracy: 0.9323 - loss: 0.1940 - val_accuracy: 0.8798 - val_loss: 0.3413\n",
            "Epoch 40/40\n",
            "\u001b[1m1719/1719\u001b[0m \u001b[32m━━━━━━━━━━━━━━━━━━━━\u001b[0m\u001b[37m\u001b[0m \u001b[1m4s\u001b[0m 2ms/step - accuracy: 0.9337 - loss: 0.1908 - val_accuracy: 0.8790 - val_loss: 0.3418\n"
          ]
        }
      ]
    },
    {
      "cell_type": "code",
      "source": [
        "modelTrain.epoch"
      ],
      "metadata": {
        "colab": {
          "base_uri": "https://localhost:8080/"
        },
        "id": "F3gxcM_QqGuS",
        "outputId": "9b2d3644-b9bb-466e-8ea8-f0257c4ac289"
      },
      "execution_count": null,
      "outputs": [
        {
          "output_type": "execute_result",
          "data": {
            "text/plain": [
              "[0,\n",
              " 1,\n",
              " 2,\n",
              " 3,\n",
              " 4,\n",
              " 5,\n",
              " 6,\n",
              " 7,\n",
              " 8,\n",
              " 9,\n",
              " 10,\n",
              " 11,\n",
              " 12,\n",
              " 13,\n",
              " 14,\n",
              " 15,\n",
              " 16,\n",
              " 17,\n",
              " 18,\n",
              " 19,\n",
              " 20,\n",
              " 21,\n",
              " 22,\n",
              " 23,\n",
              " 24,\n",
              " 25,\n",
              " 26,\n",
              " 27,\n",
              " 28,\n",
              " 29,\n",
              " 30,\n",
              " 31,\n",
              " 32,\n",
              " 33,\n",
              " 34,\n",
              " 35,\n",
              " 36,\n",
              " 37,\n",
              " 38,\n",
              " 39]"
            ]
          },
          "metadata": {},
          "execution_count": 33
        }
      ]
    },
    {
      "cell_type": "code",
      "source": [
        "modelTrain.params"
      ],
      "metadata": {
        "colab": {
          "base_uri": "https://localhost:8080/"
        },
        "id": "-GWvFCA8rFWO",
        "outputId": "d37bb2ab-b993-412d-fb3d-cf4514b272cf"
      },
      "execution_count": null,
      "outputs": [
        {
          "output_type": "execute_result",
          "data": {
            "text/plain": [
              "{'verbose': 'auto', 'epochs': 40, 'steps': 1719}"
            ]
          },
          "metadata": {},
          "execution_count": 34
        }
      ]
    },
    {
      "cell_type": "code",
      "source": [
        "modelTrain.history"
      ],
      "metadata": {
        "colab": {
          "base_uri": "https://localhost:8080/"
        },
        "id": "BwGpKClirGhE",
        "outputId": "72a67b38-9adb-480a-e701-7b53e78325f3"
      },
      "execution_count": null,
      "outputs": [
        {
          "output_type": "execute_result",
          "data": {
            "text/plain": [
              "{'accuracy': [0.7600181698799133,\n",
              "  0.8290727138519287,\n",
              "  0.8446000218391418,\n",
              "  0.8538545370101929,\n",
              "  0.8606908917427063,\n",
              "  0.8655454516410828,\n",
              "  0.8696727156639099,\n",
              "  0.8742181658744812,\n",
              "  0.8771636486053467,\n",
              "  0.880436360836029,\n",
              "  0.883436381816864,\n",
              "  0.8862727284431458,\n",
              "  0.8888182044029236,\n",
              "  0.8910909295082092,\n",
              "  0.8933818340301514,\n",
              "  0.8955636620521545,\n",
              "  0.897418200969696,\n",
              "  0.8996727466583252,\n",
              "  0.9016000032424927,\n",
              "  0.9035636186599731,\n",
              "  0.9048363566398621,\n",
              "  0.9063454270362854,\n",
              "  0.9082182049751282,\n",
              "  0.909709095954895,\n",
              "  0.9114909172058105,\n",
              "  0.9130908846855164,\n",
              "  0.9147272706031799,\n",
              "  0.9162363409996033,\n",
              "  0.9179818034172058,\n",
              "  0.9189817905426025,\n",
              "  0.9205090999603271,\n",
              "  0.9219090938568115,\n",
              "  0.9233636260032654,\n",
              "  0.9246363639831543,\n",
              "  0.9259091019630432,\n",
              "  0.9276363849639893,\n",
              "  0.9288363456726074,\n",
              "  0.9301818013191223,\n",
              "  0.9317454695701599,\n",
              "  0.9327272772789001],\n",
              " 'loss': [0.7266812324523926,\n",
              "  0.49034684896469116,\n",
              "  0.4451220631599426,\n",
              "  0.41711586713790894,\n",
              "  0.39665165543556213,\n",
              "  0.38005292415618896,\n",
              "  0.3661902844905853,\n",
              "  0.35414281487464905,\n",
              "  0.3437032699584961,\n",
              "  0.33425670862197876,\n",
              "  0.3257031738758087,\n",
              "  0.31781691312789917,\n",
              "  0.3104960322380066,\n",
              "  0.3037322759628296,\n",
              "  0.2973518967628479,\n",
              "  0.291293740272522,\n",
              "  0.28559452295303345,\n",
              "  0.2800240218639374,\n",
              "  0.27466216683387756,\n",
              "  0.2696068584918976,\n",
              "  0.26481252908706665,\n",
              "  0.26007279753685,\n",
              "  0.25535693764686584,\n",
              "  0.2509442865848541,\n",
              "  0.24662324786186218,\n",
              "  0.24234239757061005,\n",
              "  0.23822461068630219,\n",
              "  0.23421883583068848,\n",
              "  0.23025082051753998,\n",
              "  0.22649477422237396,\n",
              "  0.22259727120399475,\n",
              "  0.21894101798534393,\n",
              "  0.2154213935136795,\n",
              "  0.2117244452238083,\n",
              "  0.20815961062908173,\n",
              "  0.2045643925666809,\n",
              "  0.20112811028957367,\n",
              "  0.1976906955242157,\n",
              "  0.1944299042224884,\n",
              "  0.1912316083908081],\n",
              " 'val_accuracy': [0.8277999758720398,\n",
              "  0.8331999778747559,\n",
              "  0.8434000015258789,\n",
              "  0.8453999757766724,\n",
              "  0.8497999906539917,\n",
              "  0.8560000061988831,\n",
              "  0.8582000136375427,\n",
              "  0.8632000088691711,\n",
              "  0.8646000027656555,\n",
              "  0.866599977016449,\n",
              "  0.8672000169754028,\n",
              "  0.8673999905586243,\n",
              "  0.8676000237464905,\n",
              "  0.8686000108718872,\n",
              "  0.8700000047683716,\n",
              "  0.870199978351593,\n",
              "  0.8723999857902527,\n",
              "  0.8722000122070312,\n",
              "  0.8736000061035156,\n",
              "  0.8715999722480774,\n",
              "  0.8722000122070312,\n",
              "  0.8718000054359436,\n",
              "  0.873199999332428,\n",
              "  0.873199999332428,\n",
              "  0.873199999332428,\n",
              "  0.8748000264167786,\n",
              "  0.8755999803543091,\n",
              "  0.8763999938964844,\n",
              "  0.8772000074386597,\n",
              "  0.876800000667572,\n",
              "  0.8773999810218811,\n",
              "  0.8772000074386597,\n",
              "  0.8773999810218811,\n",
              "  0.878600001335144,\n",
              "  0.878600001335144,\n",
              "  0.878600001335144,\n",
              "  0.878000020980835,\n",
              "  0.878000020980835,\n",
              "  0.879800021648407,\n",
              "  0.8790000081062317],\n",
              " 'val_loss': [0.5104759931564331,\n",
              "  0.46397778391838074,\n",
              "  0.44016751646995544,\n",
              "  0.42364609241485596,\n",
              "  0.41006869077682495,\n",
              "  0.3996312618255615,\n",
              "  0.3904955983161926,\n",
              "  0.3828272521495819,\n",
              "  0.3782801926136017,\n",
              "  0.37448951601982117,\n",
              "  0.3704906404018402,\n",
              "  0.3674502372741699,\n",
              "  0.36481812596321106,\n",
              "  0.3615557849407196,\n",
              "  0.35876765847206116,\n",
              "  0.35765090584754944,\n",
              "  0.35453280806541443,\n",
              "  0.35354405641555786,\n",
              "  0.3517647087574005,\n",
              "  0.35337045788764954,\n",
              "  0.3508451282978058,\n",
              "  0.34933972358703613,\n",
              "  0.3491254150867462,\n",
              "  0.3481754958629608,\n",
              "  0.3482731580734253,\n",
              "  0.34674423933029175,\n",
              "  0.34611570835113525,\n",
              "  0.3465140759944916,\n",
              "  0.3451215922832489,\n",
              "  0.3446667790412903,\n",
              "  0.345040887594223,\n",
              "  0.34464138746261597,\n",
              "  0.34401729702949524,\n",
              "  0.3420634865760803,\n",
              "  0.3426550328731537,\n",
              "  0.3409847319126129,\n",
              "  0.3408317565917969,\n",
              "  0.34081292152404785,\n",
              "  0.341344952583313,\n",
              "  0.341807097196579]}"
            ]
          },
          "metadata": {},
          "execution_count": 35
        }
      ]
    },
    {
      "cell_type": "code",
      "source": [
        "# plot the accuracy and loss\n",
        "import matplotlib.pyplot as plt\n",
        "import pandas as pd\n",
        "\n",
        "\n",
        "pd.DataFrame(modelTrain.history).plot(figsize=(8,6),grid = True, xlabel=\"Epoch\",\n",
        "                                      style = ['r-', 'r-.', 'b--', 'b--*'])\n",
        "plt.show()"
      ],
      "metadata": {
        "colab": {
          "base_uri": "https://localhost:8080/",
          "height": 542
        },
        "id": "csh2EkcyrJlw",
        "outputId": "e379abdf-2c7e-4638-ed02-79a5b0c8a5c9"
      },
      "execution_count": null,
      "outputs": [
        {
          "output_type": "display_data",
          "data": {
            "text/plain": [
              "<Figure size 800x600 with 1 Axes>"
            ],
            "image/png": "[encoded data removed]"
          },
          "metadata": {}
        }
      ]
    },
    {
      "cell_type": "code",
      "source": [
        "model.evaluate(X_test, y_test)"
      ],
      "metadata": {
        "colab": {
          "base_uri": "https://localhost:8080/"
        },
        "id": "FqlIhPR_rmPO",
        "outputId": "c064a261-6b34-40bb-e572-bfb333c418c3"
      },
      "execution_count": null,
      "outputs": [
        {
          "output_type": "stream",
          "name": "stdout",
          "text": [
            "\u001b[1m313/313\u001b[0m \u001b[32m━━━━━━━━━━━━━━━━━━━━\u001b[0m\u001b[37m\u001b[0m \u001b[1m1s\u001b[0m 4ms/step - accuracy: 0.8770 - loss: 0.3531\n"
          ]
        },
        {
          "output_type": "execute_result",
          "data": {
            "text/plain": [
              "[0.3489782512187958, 0.8784000277519226]"
            ]
          },
          "metadata": {},
          "execution_count": 38
        }
      ]
    },
    {
      "cell_type": "markdown",
      "source": [
        "# Prediction"
      ],
      "metadata": {
        "id": "xz6z6gCdr88p"
      }
    },
    {
      "cell_type": "code",
      "source": [
        "X_new = X_test[:4]"
      ],
      "metadata": {
        "id": "z0QnG7SFr-Du"
      },
      "execution_count": null,
      "outputs": []
    },
    {
      "cell_type": "code",
      "source": [
        "y_probab = model.predict(X_new).round(2)"
      ],
      "metadata": {
        "colab": {
          "base_uri": "https://localhost:8080/"
        },
        "id": "oGhjnuNKsClv",
        "outputId": "353e99ad-2a47-4118-86fb-39fad2a3d480"
      },
      "execution_count": null,
      "outputs": [
        {
          "output_type": "stream",
          "name": "stdout",
          "text": [
            "\u001b[1m1/1\u001b[0m \u001b[32m━━━━━━━━━━━━━━━━━━━━\u001b[0m\u001b[37m\u001b[0m \u001b[1m0s\u001b[0m 32ms/step\n"
          ]
        }
      ]
    },
    {
      "cell_type": "code",
      "source": [
        "import numpy as np\n",
        "\n",
        "y_pred = y_probab.argmax(axis = -1)\n",
        "y_pred"
      ],
      "metadata": {
        "colab": {
          "base_uri": "https://localhost:8080/"
        },
        "id": "BhapdAoSsVP3",
        "outputId": "09939310-f7bf-4069-eca5-7ac0ac468ba0"
      },
      "execution_count": null,
      "outputs": [
        {
          "output_type": "execute_result",
          "data": {
            "text/plain": [
              "array([9, 2, 1, 1])"
            ]
          },
          "metadata": {},
          "execution_count": 45
        }
      ]
    },
    {
      "cell_type": "code",
      "source": [
        "np.array(class_names)[y_pred]"
      ],
      "metadata": {
        "id": "kkMHSRP9sgcG",
        "outputId": "e6ccbddd-ff5c-4d44-9fc8-74eebfbfb0a8",
        "colab": {
          "base_uri": "https://localhost:8080/"
        }
      },
      "execution_count": null,
      "outputs": [
        {
          "output_type": "execute_result",
          "data": {
            "text/plain": [
              "array(['Ankle Boot', 'Pullover', 'Trouser', 'Trouser'], dtype='<U11')"
            ]
          },
          "metadata": {},
          "execution_count": 46
        }
      ]
    },
    {
      "cell_type": "code",
      "source": [],
      "metadata": {
        "id": "LeGXYTgRsjo1"
      },
      "execution_count": null,
      "outputs": []
    },
    {
      "cell_type": "code",
      "source": [],
      "metadata": {
        "id": "JY1go8TRsEna"
      },
      "execution_count": null,
      "outputs": []
    },
    {
      "cell_type": "code",
      "source": [],
      "metadata": {
        "id": "29PcVpQUr32Y"
      },
      "execution_count": null,
      "outputs": []
    },
    {
      "cell_type": "code",
      "source": [],
      "metadata": {
        "id": "NxjQi14Tpyxs"
      },
      "execution_count": null,
      "outputs": []
    },
    {
      "cell_type": "code",
      "source": [],
      "metadata": {
        "id": "KflPKb0vpGpX"
      },
      "execution_count": null,
      "outputs": []
    },
    {
      "cell_type": "code",
      "source": [],
      "metadata": {
        "id": "uOYTgqNcjQQh"
      },
      "execution_count": null,
      "outputs": []
    }
  ]
}